{
 "nbformat": 4,
 "nbformat_minor": 0,
 "metadata": {
  "accelerator": "GPU",
  "colab": {
   "name": "bonus1.ipynb",
   "provenance": [],
   "collapsed_sections": [
    "ZOxkT8uRYrrN",
    "uxQPaFFZYrEr",
    "lkvcpZA7mLm5",
    "Lj41VW9VpamL",
    "BlzXfuhvhF0L",
    "REtpu0AnhSq5",
    "ukKiTN7Uhj-_"
   ],
   "machine_shape": "hm"
  },
  "kernelspec": {
   "name": "python3",
   "language": "python",
   "display_name": "Python 3 (ipykernel)"
  }
 },
 "cells": [
  {
   "cell_type": "markdown",
   "source": [
    "#Init Colab"
   ],
   "metadata": {
    "id": "ZOxkT8uRYrrN"
   }
  },
  {
   "cell_type": "code",
   "execution_count": 1,
   "outputs": [
    {
     "name": "stdout",
     "output_type": "stream",
     "text": [
      "Fri Apr 15 10:19:40 2022       \n",
      "+-----------------------------------------------------------------------------+\n",
      "| NVIDIA-SMI 496.49       Driver Version: 496.49       CUDA Version: 11.5     |\n",
      "|-------------------------------+----------------------+----------------------+\n",
      "| GPU  Name            TCC/WDDM | Bus-Id        Disp.A | Volatile Uncorr. ECC |\n",
      "| Fan  Temp  Perf  Pwr:Usage/Cap|         Memory-Usage | GPU-Util  Compute M. |\n",
      "|                               |                      |               MIG M. |\n",
      "|===============================+======================+======================|\n",
      "|   0  NVIDIA GeForce ... WDDM  | 00000000:01:00.0 Off |                  N/A |\n",
      "| N/A    0C    P8    N/A /  N/A |     37MiB /  2048MiB |      0%      Default |\n",
      "|                               |                      |                  N/A |\n",
      "+-------------------------------+----------------------+----------------------+\n",
      "                                                                               \n",
      "+-----------------------------------------------------------------------------+\n",
      "| Processes:                                                                  |\n",
      "|  GPU   GI   CI        PID   Type   Process name                  GPU Memory |\n",
      "|        ID   ID                                                   Usage      |\n",
      "|=============================================================================|\n",
      "|  No running processes found                                                 |\n",
      "+-----------------------------------------------------------------------------+\n"
     ]
    }
   ],
   "source": [
    "!nvidia-smi"
   ],
   "metadata": {
    "collapsed": false,
    "pycharm": {
     "name": "#%%\n"
    }
   }
  },
  {
   "cell_type": "markdown",
   "source": [
    "#Init"
   ],
   "metadata": {
    "collapsed": false
   }
  },
  {
   "cell_type": "code",
   "source": [
    "## for data\n",
    "import os\n",
    "import numpy as np\n",
    "\n",
    "## for plotting\n",
    "import matplotlib.pyplot as plt\n",
    "\n",
    "## for processing\n",
    "import re\n",
    "import nltk\n",
    "from nltk.corpus import stopwords\n",
    "from nltk.stem import WordNetLemmatizer\n",
    "from nltk.corpus import wordnet\n",
    "\n",
    "nltk.download('wordnet')\n",
    "nltk.download('universal_tagset')\n",
    "nltk.download('averaged_perceptron_tagger')\n",
    "nltk.download('punkt')\n",
    "nltk.download('stopwords')\n",
    "nltk.download('omw-1.4')\n",
    "\n",
    "## for word embedding\n",
    "import gensim\n",
    "import gensim.downloader as gensim_api\n",
    "\n",
    "## for model \n",
    "import torch\n",
    "import torch.nn as nn\n",
    "\n",
    "##Other\n",
    "import time\n",
    "import random\n",
    "import json\n",
    "from typing import Dict\n",
    "from torch.utils.data import Dataset, DataLoader\n",
    "import itertools\n",
    "import torch_scatter as pysc"
   ],
   "metadata": {
    "colab": {
     "base_uri": "https://localhost:8080/"
    },
    "id": "FTiqzWuHj-qU",
    "outputId": "542989b7-390a-4053-9800-7631494f16c8"
   },
   "execution_count": 2,
   "outputs": [
    {
     "name": "stderr",
     "output_type": "stream",
     "text": [
      "[nltk_data] Downloading package wordnet to\n",
      "[nltk_data]     C:\\Users\\orlan\\AppData\\Roaming\\nltk_data...\n",
      "[nltk_data]   Package wordnet is already up-to-date!\n",
      "[nltk_data] Downloading package universal_tagset to\n",
      "[nltk_data]     C:\\Users\\orlan\\AppData\\Roaming\\nltk_data...\n",
      "[nltk_data]   Package universal_tagset is already up-to-date!\n",
      "[nltk_data] Downloading package averaged_perceptron_tagger to\n",
      "[nltk_data]     C:\\Users\\orlan\\AppData\\Roaming\\nltk_data...\n",
      "[nltk_data]   Package averaged_perceptron_tagger is already up-to-\n",
      "[nltk_data]       date!\n",
      "[nltk_data] Downloading package punkt to\n",
      "[nltk_data]     C:\\Users\\orlan\\AppData\\Roaming\\nltk_data...\n",
      "[nltk_data]   Package punkt is already up-to-date!\n",
      "[nltk_data] Downloading package stopwords to\n",
      "[nltk_data]     C:\\Users\\orlan\\AppData\\Roaming\\nltk_data...\n",
      "[nltk_data]   Package stopwords is already up-to-date!\n",
      "[nltk_data] Downloading package omw-1.4 to\n",
      "[nltk_data]     C:\\Users\\orlan\\AppData\\Roaming\\nltk_data...\n",
      "[nltk_data]   Package omw-1.4 is already up-to-date!\n"
     ]
    },
    {
     "ename": "ModuleNotFoundError",
     "evalue": "No module named 'torch_scatter'",
     "output_type": "error",
     "traceback": [
      "\u001B[1;31m---------------------------------------------------------------------------\u001B[0m",
      "\u001B[1;31mModuleNotFoundError\u001B[0m                       Traceback (most recent call last)",
      "Input \u001B[1;32mIn [2]\u001B[0m, in \u001B[0;36m<cell line: 37>\u001B[1;34m()\u001B[0m\n\u001B[0;32m     35\u001B[0m \u001B[38;5;28;01mfrom\u001B[39;00m \u001B[38;5;21;01mtorch\u001B[39;00m\u001B[38;5;21;01m.\u001B[39;00m\u001B[38;5;21;01mutils\u001B[39;00m\u001B[38;5;21;01m.\u001B[39;00m\u001B[38;5;21;01mdata\u001B[39;00m \u001B[38;5;28;01mimport\u001B[39;00m Dataset, DataLoader\n\u001B[0;32m     36\u001B[0m \u001B[38;5;28;01mimport\u001B[39;00m \u001B[38;5;21;01mitertools\u001B[39;00m\n\u001B[1;32m---> 37\u001B[0m \u001B[38;5;28;01mimport\u001B[39;00m \u001B[38;5;21;01mtorch_scatter\u001B[39;00m \u001B[38;5;28;01mas\u001B[39;00m \u001B[38;5;21;01mpysc\u001B[39;00m\n",
      "\u001B[1;31mModuleNotFoundError\u001B[0m: No module named 'torch_scatter'"
     ]
    }
   ]
  },
  {
   "cell_type": "code",
   "execution_count": 3,
   "outputs": [
    {
     "name": "stdout",
     "output_type": "stream",
     "text": [
      "['fasttext-wiki-news-subwords-300', 'conceptnet-numberbatch-17-06-300', 'word2vec-ruscorpora-300', 'word2vec-google-news-300', 'glove-wiki-gigaword-50', 'glove-wiki-gigaword-100', 'glove-wiki-gigaword-200', 'glove-wiki-gigaword-300', 'glove-twitter-25', 'glove-twitter-50', 'glove-twitter-100', 'glove-twitter-200', '__testing_word2vec-matrix-synopsis']\n"
     ]
    }
   ],
   "source": [
    "print(list(gensim.downloader.info()['models'].keys()))"
   ],
   "metadata": {
    "pycharm": {
     "name": "#%%\n"
    },
    "id": "nj3_4TC6hF0C",
    "outputId": "22c5e8bf-9f78-4a01-b3c1-7dbade811c87"
   }
  },
  {
   "cell_type": "code",
   "execution_count": 4,
   "outputs": [],
   "source": [
    "gensim_vocab_name = \"glove-wiki-gigaword-300\""
   ],
   "metadata": {
    "pycharm": {
     "name": "#%%\n"
    },
    "id": "47hUHnFghF0D"
   }
  },
  {
   "cell_type": "code",
   "execution_count": 5,
   "outputs": [],
   "source": [
    "loaded_word_vocab = gensim.downloader.load(gensim_vocab_name)"
   ],
   "metadata": {
    "pycharm": {
     "name": "#%%\n"
    },
    "id": "cJbTIvEshF0D"
   }
  },
  {
   "cell_type": "code",
   "source": [
    "def seed_all(seed: int = 42):\n",
    "    print(\"[ Using Seed : \", seed, \" ]\")\n",
    "\n",
    "    torch.manual_seed(seed)\n",
    "    torch.cuda.manual_seed_all(seed)\n",
    "    torch.cuda.manual_seed(seed)\n",
    "    np.random.seed(seed)\n",
    "    random.seed(seed)\n",
    "    torch.backends.cudnn.deterministic = True\n",
    "    torch.backends.cudnn.benchmark = False"
   ],
   "metadata": {
    "id": "YOw5Na5dlm3o"
   },
   "execution_count": 6,
   "outputs": []
  },
  {
   "cell_type": "code",
   "source": [
    "seed_all()"
   ],
   "metadata": {
    "id": "H0UNjqW7lrEW",
    "colab": {
     "base_uri": "https://localhost:8080/"
    },
    "outputId": "1b542be6-a42f-410f-a5e6-0319d0a1a6ff"
   },
   "execution_count": 7,
   "outputs": [
    {
     "name": "stdout",
     "output_type": "stream",
     "text": [
      "[ Using Seed :  42  ]\n"
     ]
    }
   ]
  },
  {
   "cell_type": "code",
   "source": [
    "temp_path = \"../../\"\n",
    "data_path = os.path.join(temp_path, \"data\")\n",
    "model_p = os.path.join(temp_path, \"model\")\n",
    "train_path = os.path.join(data_path, \"train.tsv\")\n",
    "dev_path = os.path.join(data_path, \"dev.tsv\")"
   ],
   "metadata": {
    "id": "TzTsem6OltUT"
   },
   "execution_count": null,
   "outputs": []
  },
  {
   "cell_type": "code",
   "execution_count": 9,
   "outputs": [],
   "source": [
    "from typing import List, Tuple\n",
    "\n",
    "def read_dataset(path: str) -> Tuple[List[List[str]], List[List[str]]]:\n",
    "    tokens_s = []\n",
    "    labels_s = []\n",
    "\n",
    "    tokens = []\n",
    "    labels = []\n",
    "\n",
    "    with open(path, encoding=\"utf-8\") as f:\n",
    "\n",
    "        for line in f:\n",
    "\n",
    "            line = line.strip()\n",
    "\n",
    "            if line.startswith(\"#\\t\"):\n",
    "                tokens = []\n",
    "                labels = []\n",
    "            elif line == \"\":\n",
    "                tokens_s.append(tokens)\n",
    "                labels_s.append(labels)\n",
    "            else:\n",
    "                token, label = line.split(\"\\t\")\n",
    "                tokens.append(token)\n",
    "                labels.append(label)\n",
    "\n",
    "    assert len(tokens_s) == len(labels_s)\n",
    "\n",
    "    return tokens_s, labels_s"
   ],
   "metadata": {
    "collapsed": false,
    "pycharm": {
     "name": "#%%\n"
    }
   }
  },
  {
   "cell_type": "markdown",
   "source": [
    "# WordClassificationDataset"
   ],
   "metadata": {
    "id": "lkvcpZA7mLm5"
   }
  },
  {
   "cell_type": "code",
   "source": [
    "class StudDataset(Dataset):\n",
    "\n",
    "    def __init__(self,\n",
    "                 tokens,\n",
    "                 vocab,\n",
    "                 pos_vocab,\n",
    "                 char_vocab,\n",
    "                 labels=None,\n",
    "                 sw_filter=False,\n",
    "                 lemming=False,\n",
    "                 lowercase=False,\n",
    "                 max_len=-1,\n",
    "                 device=\"cpu\"):\n",
    "\n",
    "        if labels is None:\n",
    "            labels = []\n",
    "        self.lowercase = lowercase\n",
    "        self.lemming = lemming\n",
    "        self.sw_filter = sw_filter\n",
    "        self.device = device\n",
    "        self.encoded_data = []\n",
    "        self.vocab = vocab\n",
    "        self.pos_vocab = pos_vocab\n",
    "        self.char_vocab = char_vocab\n",
    "        self.init_structures(tokens, labels, max_len)\n",
    "        self.words_pad = self.vocab[\"<PAD>\"]\n",
    "        self.char_pad = self.char_vocab[\"<PAD>\"]\n",
    "        self.pos_pad = self.pos_vocab[\"<PAD>\"]\n",
    "        self.label_pad = self.encode_class(\"<PAD>\")\n",
    "\n",
    "\n",
    "    def init_structures(self, s_tokens, s_labels, max_len) -> None:\n",
    "        unk_count_d = 0\n",
    "        for index_s, tokenized_s in enumerate(s_tokens):\n",
    "\n",
    "            words_posses = nltk.pos_tag(tokenized_s, tagset='universal')\n",
    "\n",
    "            words_idx, pos_idx, char_idx, words_len, unk_count_s = self.index_words(words_posses, max_len)\n",
    "            unk_count_d += unk_count_s\n",
    "            if len(s_labels) > 0:\n",
    "                labels_idx = [StudDataset.encode_class(label) for label in s_labels[index_s]]\n",
    "            else:\n",
    "                labels_idx = []\n",
    "            words_idx = torch.tensor(words_idx)\n",
    "            pos_idx = torch.tensor(pos_idx)\n",
    "            labels_idx = torch.tensor(labels_idx)\n",
    "            char_idx = torch.tensor(char_idx)\n",
    "            words_len = torch.tensor(words_len)\n",
    "            self.encoded_data.append(\n",
    "                ({'words_indx': words_idx, 'poses_indx': pos_idx, 'chars_indx': (char_idx, words_len)}, labels_idx,\n",
    "                 index_s))\n",
    "        print(\"{} unknown words found\".format(unk_count_d))\n",
    "\n",
    "\n",
    "    def index_words(self, words: List[Tuple], max_len: int):\n",
    "        unk_count = 0\n",
    "        idxs = []\n",
    "        pos_idxs = []\n",
    "        char_word_idxs = []\n",
    "        words_indexes = []\n",
    "        lemmatizer = WordNetLemmatizer()\n",
    "\n",
    "        for i, (word, pos) in enumerate(words):\n",
    "            if len(idxs) == max_len: break\n",
    "\n",
    "            if self.lemming: word = lemmatizer.lemmatize(word, pos=self.get_wordnet_pos(pos))\n",
    "\n",
    "            if word in self.vocab.keys():\n",
    "                idxs.append(self.vocab[word])\n",
    "            else:\n",
    "                idxs.append(self.vocab[\"<UNK>\"])\n",
    "                unk_count += 1\n",
    "            pos_idxs.append(self.pos_vocab.get(pos, self.pos_vocab.get('<UNK>')))\n",
    "\n",
    "            for char in word:\n",
    "                char_word_idxs.append(self.char_vocab.get(char, self.char_vocab.get(\"<UNK>\")))\n",
    "            words_indexes += [i]*len(word)\n",
    "\n",
    "        return idxs, pos_idxs, char_word_idxs, words_indexes, unk_count\n",
    "\n",
    "    @staticmethod\n",
    "    def decode_class(index):\n",
    "        if index == StudDataset.encode_class(\"<PAD>\"): return \"O\"\n",
    "        for ind, val in StudDataset.get_class_labels():\n",
    "            if ind == index:\n",
    "                return val\n",
    "\n",
    "    @staticmethod\n",
    "    def encode_class(label):\n",
    "        for ind, val in StudDataset.get_class_labels():\n",
    "            if val == label:\n",
    "                return ind\n",
    "\n",
    "    @staticmethod\n",
    "    def get_class_labels() -> List:\n",
    "        return [\n",
    "            (0, \"B-CORP\"),\n",
    "            (1, \"B-CW\"),\n",
    "            (2, \"B-GRP\"),\n",
    "            (3, \"B-LOC\"),\n",
    "            (4, \"B-PER\"),\n",
    "            (5, \"B-PROD\"),\n",
    "            (6, \"I-CORP\"),\n",
    "            (7, \"I-CW\"),\n",
    "            (8, \"I-GRP\"),\n",
    "            (9, \"I-LOC\"),\n",
    "            (10, \"I-PER\"),\n",
    "            (11, \"I-PROD\"),\n",
    "            (12, \"O\"),\n",
    "            (13, \"<PAD>\")\n",
    "        ]\n",
    "\n",
    "    @staticmethod\n",
    "    def get_wordnet_pos(treebank_tag):\n",
    "\n",
    "        if treebank_tag.startswith('ADJ'):\n",
    "            return wordnet.ADJ\n",
    "        elif treebank_tag.startswith('VERB'):\n",
    "            return wordnet.VERB\n",
    "        elif treebank_tag.startswith('N'):\n",
    "            return wordnet.NOUN\n",
    "        elif treebank_tag.startswith('ADV'):\n",
    "            return wordnet.ADV\n",
    "        else:\n",
    "            return wordnet.NOUN\n",
    "\n",
    "    def __len__(self):\n",
    "        # returns the number of samples in our dataset\n",
    "        return len(self.encoded_data)\n",
    "\n",
    "    def getData(self):\n",
    "        return self.encoded_data\n",
    "\n",
    "    def __getitem__(self, idx):\n",
    "        return self.encoded_data[idx]\n",
    "\n",
    "    def collate_fn(self, data):\n",
    "        words,posses,chars,scattered_chars,ys= [],[],[],[],[]\n",
    "        for e in data:\n",
    "            words.append(e[0][\"words_indx\"])\n",
    "            posses.append(e[0][\"poses_indx\"])\n",
    "            chars.append(e[0][\"chars_indx\"][0])\n",
    "            scattered_chars.append(e[0][\"chars_indx\"][1])\n",
    "            ys.append(e[1])\n",
    "\n",
    "        words = torch.nn.utils.rnn.pad_sequence(words, padding_value=self.words_pad, batch_first=True)\n",
    "        posses = torch.nn.utils.rnn.pad_sequence(posses, padding_value=self.pos_pad, batch_first=True)\n",
    "        chars = torch.nn.utils.rnn.pad_sequence(chars, padding_value=self.char_pad, batch_first=True)\n",
    "        scattered_chars = torch.nn.utils.rnn.pad_sequence(scattered_chars, padding_value=-1, batch_first=True)\n",
    "\n",
    "        #NOT THE BEST\n",
    "        #mx, _ = torch.max(scattered_chars, dim=1)\n",
    "        scattered_chars[scattered_chars==-1] = torch.max(scattered_chars)+1\n",
    "\n",
    "        ys = torch.nn.utils.rnn.pad_sequence(ys, padding_value=self.label_pad, batch_first=True)\n",
    "        mask = words != self.vocab[\"<PAD>\"]\n",
    "\n",
    "        return {\"words\": words, \"poses\": posses, \"chars\":chars, \"mask\":mask, \"scattered\":scattered_chars}, {\"labels\": ys}"
   ],
   "metadata": {
    "id": "O9S6dQyPxvUj"
   },
   "execution_count": 276,
   "outputs": []
  },
  {
   "cell_type": "code",
   "execution_count": 277,
   "outputs": [],
   "source": [
    "class StudDataset_CoNLL(Dataset):\n",
    "\n",
    "    def __init__(self,\n",
    "                 tokens,\n",
    "                 vocab,\n",
    "                 pos_vocab,\n",
    "                 char_vocab,\n",
    "                 labels=None,\n",
    "                 sw_filter=False,\n",
    "                 lemming=False,\n",
    "                 lowercase=False,\n",
    "                 max_len=-1,\n",
    "                 device=\"cpu\"):\n",
    "\n",
    "        if labels is None:\n",
    "            labels = []\n",
    "        self.lowercase = lowercase\n",
    "        self.lemming = lemming\n",
    "        self.sw_filter = sw_filter\n",
    "        self.device = device\n",
    "        self.encoded_data = []\n",
    "        self.vocab = vocab\n",
    "        self.pos_vocab = pos_vocab\n",
    "        self.char_vocab = char_vocab\n",
    "        self.init_structures(tokens, labels, max_len)\n",
    "        self.words_pad = self.vocab[\"<PAD>\"]\n",
    "        self.char_pad = self.char_vocab[\"<PAD>\"]\n",
    "        self.pos_pad = self.pos_vocab[\"<PAD>\"]\n",
    "        self.label_pad = self.encode_class(\"<PAD>\")\n",
    "\n",
    "\n",
    "    def init_structures(self, s_tokens, s_labels, max_len) -> None:\n",
    "        unk_count_d = 0\n",
    "        for index_s, tokenized_s in enumerate(s_tokens):\n",
    "\n",
    "            words_posses = nltk.pos_tag(tokenized_s, tagset='universal')\n",
    "\n",
    "            words_idx, pos_idx, char_idx, words_len, unk_count_s = self.index_words(words_posses, max_len)\n",
    "            unk_count_d += unk_count_s\n",
    "            if len(s_labels) > 0:\n",
    "                labels_idx = [StudDataset_CoNLL.encode_class(label) for label in s_labels[index_s]]\n",
    "            else:\n",
    "                labels_idx = []\n",
    "\n",
    "            if None in labels_idx:  print(labels_idx, index_s)\n",
    "            words_idx = torch.tensor(words_idx)\n",
    "            pos_idx = torch.tensor(pos_idx)\n",
    "            labels_idx = torch.tensor(labels_idx)\n",
    "            char_idx = torch.tensor(char_idx)\n",
    "            words_len = torch.tensor(words_len)\n",
    "            self.encoded_data.append(\n",
    "                ({'words_indx': words_idx, 'poses_indx': pos_idx, 'chars_indx': (char_idx, words_len)}, labels_idx,\n",
    "                 index_s))\n",
    "        print(\"{} words found\".format(unk_count_d))\n",
    "\n",
    "    def index_words(self, words: List[Tuple], max_len: int):\n",
    "        unk_count = 0\n",
    "        idxs = []\n",
    "        pos_idxs = []\n",
    "        char_word_idxs = []\n",
    "        words_indexes = []\n",
    "        lemmatizer = WordNetLemmatizer()\n",
    "\n",
    "        for i, (word, pos) in enumerate(words):\n",
    "            word = word.lower()\n",
    "            if len(idxs) == max_len: break\n",
    "\n",
    "            if self.lemming: word = lemmatizer.lemmatize(word, pos=self.get_wordnet_pos(pos))\n",
    "\n",
    "            if word in self.vocab.keys():\n",
    "                idxs.append(self.vocab[word])\n",
    "\n",
    "            else:\n",
    "                idxs.append(self.vocab[\"<UNK>\"])\n",
    "                unk_count += 1\n",
    "\n",
    "            pos_idxs.append(self.pos_vocab.get(pos, self.pos_vocab.get('<UNK>')))\n",
    "            for char in word:\n",
    "                char_word_idxs.append(self.char_vocab.get(char, self.char_vocab.get(\"<UNK>\")))\n",
    "            words_indexes += [i]*len(word)\n",
    "\n",
    "        return idxs, pos_idxs, char_word_idxs, words_indexes, unk_count\n",
    "\n",
    "    @staticmethod\n",
    "    def decode_class(index):\n",
    "        if index == StudDataset_CoNLL.encode_class(\"<PAD>\"): return \"O\"\n",
    "        for ind, val in StudDataset_CoNLL.get_class_labels():\n",
    "            if ind == index:\n",
    "                return val\n",
    "\n",
    "    @staticmethod\n",
    "    def encode_class(label):\n",
    "        for ind, val in StudDataset_CoNLL.get_class_labels():\n",
    "            if val == label:\n",
    "                return ind\n",
    "\n",
    "    @staticmethod\n",
    "    def get_class_labels() -> List:\n",
    "        return [\n",
    "            (0, \"B-ORG\"),\n",
    "            (1, \"B-LOC\"),\n",
    "            (2, \"B-MISC\"),\n",
    "            (3, \"B-PER\"),\n",
    "            (4, \"I-MISC\"),\n",
    "            (5, \"I-LOC\"),\n",
    "            (6, \"I-ORG\"),\n",
    "            (7, \"I-PER\"),\n",
    "            (8, \"O\"),\n",
    "            (9, \"<PAD>\")\n",
    "        ]\n",
    "\n",
    "    @staticmethod\n",
    "    def get_wordnet_pos(treebank_tag):\n",
    "\n",
    "        if treebank_tag.startswith('ADJ'):\n",
    "            return wordnet.ADJ\n",
    "        elif treebank_tag.startswith('VERB'):\n",
    "            return wordnet.VERB\n",
    "        elif treebank_tag.startswith('N'):\n",
    "            return wordnet.NOUN\n",
    "        elif treebank_tag.startswith('ADV'):\n",
    "            return wordnet.ADV\n",
    "        else:\n",
    "            return wordnet.NOUN\n",
    "\n",
    "    def __len__(self):\n",
    "        # returns the number of samples in our dataset\n",
    "        return len(self.encoded_data)\n",
    "\n",
    "    def getData(self):\n",
    "        return self.encoded_data\n",
    "\n",
    "    def __getitem__(self, idx):\n",
    "        return self.encoded_data[idx]\n",
    "\n",
    "    def collate_fn(self, data):\n",
    "        words,posses,chars,scattered_chars,ys= [],[],[],[],[]\n",
    "        for e in data:\n",
    "            words.append(e[0][\"words_indx\"])\n",
    "            posses.append(e[0][\"poses_indx\"])\n",
    "            chars.append(e[0][\"chars_indx\"][0])\n",
    "            scattered_chars.append(e[0][\"chars_indx\"][1])\n",
    "            ys.append(e[1])\n",
    "\n",
    "        words = torch.nn.utils.rnn.pad_sequence(words, padding_value=self.words_pad, batch_first=True)\n",
    "        posses = torch.nn.utils.rnn.pad_sequence(posses, padding_value=self.pos_pad, batch_first=True)\n",
    "        chars = torch.nn.utils.rnn.pad_sequence(chars, padding_value=self.char_pad, batch_first=True)\n",
    "        scattered_chars = torch.nn.utils.rnn.pad_sequence(scattered_chars, padding_value=-1, batch_first=True)\n",
    "        #NOT THE BEST\n",
    "        #mx, _ = torch.max(scattered_chars, dim=1)\n",
    "        scattered_chars[scattered_chars==-1] = torch.max(scattered_chars)+1\n",
    "\n",
    "\n",
    "\n",
    "\n",
    "        ys = torch.nn.utils.rnn.pad_sequence(ys, padding_value=self.label_pad, batch_first=True)\n",
    "        mask = words != self.vocab[\"<PAD>\"]\n",
    "\n",
    "        return {\"words\": words, \"poses\": posses, \"chars\":chars, \"mask\":mask, \"scattered\":scattered_chars }, {\"labels\": ys}"
   ],
   "metadata": {
    "collapsed": false,
    "pycharm": {
     "name": "#%%\n"
    }
   }
  },
  {
   "cell_type": "code",
   "execution_count": 278,
   "outputs": [],
   "source": [
    "import string\n",
    "\n",
    "def create_pos_vocab():\n",
    "    pos_list = [\"ADJ\", \"ADP\", \"PUNCT\", \"ADV\", \"AUX\", \"SYM\", \"INTJ\", \"CCONJ\", \"X\", \"NOUN\", \"DET\", \"PROPN\", \"NUM\", \"VERB\",\n",
    "                \"PART\", \"PRON\", \"SCONJ\", \"<UNK>\", \"<PAD>\", \"<SEP>\"]\n",
    "    pos_index = dict()\n",
    "\n",
    "    for seed, vocab in enumerate(pos_list):\n",
    "        pos_index[vocab] = seed\n",
    "    return pos_index\n",
    "\n",
    "def create_char_vocab():\n",
    "    char_index = dict()\n",
    "    max_index = -1\n",
    "    for i, printable_char in enumerate(string.printable):\n",
    "        char_index[printable_char] = i\n",
    "        max_index = max(max_index, i)\n",
    "    char_index[\"<UNK>\"] = max_index + 1\n",
    "    char_index[\"<PAD>\"] = max_index + 2\n",
    "    char_index[\"<SEP>\"] = max_index + 3\n",
    "\n",
    "    return char_index"
   ],
   "metadata": {
    "collapsed": false,
    "pycharm": {
     "name": "#%%\n"
    }
   }
  },
  {
   "cell_type": "code",
   "source": [
    "class StudParams:\n",
    "\n",
    "    device = \"cuda\" if torch.cuda.is_available() else \"cpu\"\n",
    "    additionals_datasets = [\"WNUT17.tsv\",\"CoNLL.tsv\"]\n",
    "    additional_dataset = True\n",
    "    lemming = False\n",
    "\n",
    "    word_vocab_name = gensim_vocab_name\n",
    "    word_vocab = loaded_word_vocab\n",
    "\n",
    "    pos_vocab_index = create_pos_vocab()\n",
    "    char_vocab_index = create_char_vocab()\n",
    "\n",
    "    word_vocab_size = len(word_vocab)\n",
    "    word_embedding_dim = word_vocab.vector_size\n",
    "\n",
    "    pos_vocab_size = len(pos_vocab_index)\n",
    "    pos_embedding_dim = 20\n",
    "\n",
    "    char_vocab_size = len(char_vocab_index)\n",
    "    char_embedding_dim = 50\n",
    "\n",
    "\n",
    "    word_vocab[\"<UNK>\"] = np.random.random(word_embedding_dim)\n",
    "    word_vocab[\"<PAD>\"] = np.zeros(word_embedding_dim)\n",
    "\n",
    "    num_classes = 14\n",
    "\n",
    "    #GLOBAL EMBEDDING LAYER\n",
    "    global_hidden_dim = 100\n",
    "    global_lstm_layers = 2\n",
    "    global_dropout = 0.30\n",
    "\n",
    "    global_bidir = True\n",
    "    global_vector = True\n",
    "\n",
    "    #CHAR EMBEDDING LAYER\n",
    "    char_hidden_dim = 50\n",
    "    char_lstm_layers = 3\n",
    "    char_dropout = 0.30\n",
    "    char_bidir = True\n",
    "    char = True\n",
    "\n",
    "    #WORD EMBEDDING LAYER\n",
    "    words_freeze=True\n",
    "\n",
    "    #COMBINED LSTM LAYER\n",
    "    combined_hidden_dim = 350\n",
    "    combined_lstm_layers = 3\n",
    "    combined_dropout = 0.35\n",
    "    combined_bidir = True\n",
    "    feature_dim_out = 350\n",
    "\n",
    "    #CLASSIFICATOR LAYER\n",
    "    classificator_dropout = 0.4\n",
    "    crf = True\n",
    "\n",
    "\n",
    "    #CoNLL PARAMETERS\n",
    "    conll_num_classes = 10\n",
    "    conll_classificator_dropout = 0.4\n",
    "\n",
    "\n",
    "    #OTHER HYPERPARAMS\n",
    "    epochs = 15\n",
    "    batch_size = 64\n",
    "    learning_rate = 0.0005 #default 0.001\n",
    "    weight_decay = 1e-4\n",
    "\n",
    "    global_embedding_dim = word_embedding_dim + char_hidden_dim * (1 if char else 0) * (2 if char_bidir else 1) + pos_embedding_dim\n",
    "    full_embedding_dim = global_hidden_dim * (1 if global_vector else 0) * (2 if global_bidir else 1) + global_embedding_dim\n",
    "\n",
    "    csv = \",\".join(\n",
    "        [    \"additionals_datasets\", \"additional_dataset\", \"lemming\", \"word_vocab\", \"word_vocab_size\", \"word_embedding_dim\", \"pos_vocab_dim\",\n",
    "         \"pos_embedding_dim\", \"char_vocab_size\", \"char_embedding_dim\",\n",
    "         \"num_classes\", \"char_hidden_dims\", \"char_lstm_layers\", \"char_bidir\", \"char_dropout\", \"words_freeze\", \"combined_hidden_dims\",\n",
    "         \"combined_lstm_layers\", \"combined_bidir\", \"combined_dropout\", \"classificator_dropout\", \"feature_dim_out\", \"epochs\", \"batch_size\",\n",
    "         \"learning_rate\", \"weight_decay\", \"char\", \"cfr\", \"global\"])\n",
    "    csv += \"\\n\"\n",
    "    csv += \",\".join(\n",
    "        [    str(additionals_datasets), str(additional_dataset), str(lemming), str(word_vocab_name), str(word_vocab_size), str(word_embedding_dim),\n",
    "         str(pos_vocab_size), str(pos_embedding_dim), str(char_vocab_size), str(char_embedding_dim), str(num_classes),\n",
    "         str(char_hidden_dim), str(char_lstm_layers), str(char_bidir), str(char_dropout),str(words_freeze), str(combined_hidden_dim),\n",
    "         str(combined_lstm_layers), str(combined_bidir), str(combined_dropout), str(classificator_dropout), str(feature_dim_out),str(epochs),\n",
    "         str(batch_size), str(learning_rate), str(weight_decay), str(char), str(crf), str(global_vector)])"
   ],
   "metadata": {
    "id": "5O2CBc6wc47h"
   },
   "execution_count": 349,
   "outputs": []
  },
  {
   "cell_type": "markdown",
   "source": [
    "# Model"
   ],
   "metadata": {
    "id": "Lj41VW9VpamL"
   }
  },
  {
   "cell_type": "markdown",
   "source": [
    "## Init CRF model from:"
   ],
   "metadata": {
    "collapsed": false
   }
  },
  {
   "cell_type": "code",
   "execution_count": 321,
   "outputs": [],
   "source": [
    "from typing import List, Optional\n",
    "\n",
    "import torch\n",
    "import torch.nn as nn\n",
    "from torch import BoolTensor, FloatTensor, LongTensor\n",
    "\n",
    "class CRF(nn.Module):\n",
    "\n",
    "    def __init__(\n",
    "        self, num_labels: int, pad_idx: Optional[int] = None, use_gpu: bool = True\n",
    "    ) -> None:\n",
    "        \"\"\"\n",
    "        :param num_labels: number of labels\n",
    "        :param pad_idxL padding index. default None\n",
    "        :return None\n",
    "        \"\"\"\n",
    "\n",
    "        if num_labels < 1:\n",
    "            raise ValueError(\"invalid number of labels: {0}\".format(num_labels))\n",
    "\n",
    "        super().__init__()\n",
    "        self.num_labels = num_labels\n",
    "        self._use_gpu = torch.cuda.is_available() and use_gpu\n",
    "\n",
    "        # transition matrix setting\n",
    "        # transition matrix format (source, destination)\n",
    "        self.trans_matrix = nn.Parameter(torch.empty(num_labels, num_labels))\n",
    "        # transition matrix of start and end settings\n",
    "        self.start_trans = nn.Parameter(torch.empty(num_labels))\n",
    "        self.end_trans = nn.Parameter(torch.empty(num_labels))\n",
    "\n",
    "        self._initialize_parameters(pad_idx)\n",
    "\n",
    "    def forward(\n",
    "        self, h: FloatTensor, labels: LongTensor, mask: BoolTensor\n",
    "    ) -> FloatTensor:\n",
    "        \"\"\"\n",
    "        :param h: hidden matrix (batch_size, seq_len, num_labels)\n",
    "        :param labels: answer labels of each sequence\n",
    "                       in mini batch (batch_size, seq_len)\n",
    "        :param mask: mask tensor of each sequence\n",
    "                     in mini batch (batch_size, seq_len)\n",
    "        :return: The log-likelihood (batch_size)\n",
    "        \"\"\"\n",
    "\n",
    "        log_numerator = self._compute_numerator_log_likelihood(h, labels, mask)\n",
    "        log_denominator = self._compute_denominator_log_likelihood(h, mask)\n",
    "\n",
    "        return log_numerator - log_denominator\n",
    "\n",
    "    def viterbi_decode(self, h: FloatTensor, mask: BoolTensor) -> List[List[int]]:\n",
    "        \"\"\"\n",
    "        decode labels using viterbi algorithm\n",
    "        :param h: hidden matrix (batch_size, seq_len, num_labels)\n",
    "        :param mask: mask tensor of each sequence\n",
    "                     in mini batch (batch_size, batch_size)\n",
    "        :return: labels of each sequence in mini batch\n",
    "        \"\"\"\n",
    "\n",
    "        batch_size, seq_len, _ = h.size()\n",
    "        # prepare the sequence lengths in each sequence\n",
    "        seq_lens = mask.sum(dim=1)\n",
    "        # In mini batch, prepare the score\n",
    "        # from the start sequence to the first label\n",
    "        score = [self.start_trans.data + h[:, 0]]\n",
    "        path = []\n",
    "\n",
    "        for t in range(1, seq_len):\n",
    "            # extract the score of previous sequence\n",
    "            # (batch_size, num_labels, 1)\n",
    "            previous_score = score[t - 1].view(batch_size, -1, 1)\n",
    "\n",
    "            # extract the score of hidden matrix of sequence\n",
    "            # (batch_size, 1, num_labels)\n",
    "            h_t = h[:, t].view(batch_size, 1, -1)\n",
    "\n",
    "            # extract the score in transition\n",
    "            # from label of t-1 sequence to label of sequence of t\n",
    "            # self.trans_matrix has the score of the transition\n",
    "            # from sequence A to sequence B\n",
    "            # (batch_size, num_labels, num_labels)\n",
    "            score_t = previous_score + self.trans_matrix + h_t\n",
    "\n",
    "            # keep the maximum value\n",
    "            # and point where maximum value of each sequence\n",
    "            # (batch_size, num_labels)\n",
    "            best_score, best_path = score_t.max(1)\n",
    "            score.append(best_score)\n",
    "            path.append(best_path)\n",
    "\n",
    "        # predict labels of mini batch\n",
    "        best_paths = [\n",
    "            self._viterbi_compute_best_path(i, seq_lens, score, path)\n",
    "            for i in range(batch_size)\n",
    "        ]\n",
    "\n",
    "        return best_paths\n",
    "\n",
    "    def _viterbi_compute_best_path(\n",
    "        self,\n",
    "        batch_idx: int,\n",
    "        seq_lens: torch.LongTensor,\n",
    "        score: List[FloatTensor],\n",
    "        path: List[torch.LongTensor],\n",
    "    ) -> List[int]:\n",
    "        \"\"\"\n",
    "        return labels using viterbi algorithm\n",
    "        :param batch_idx: index of batch\n",
    "        :param seq_lens: sequence lengths in mini batch (batch_size)\n",
    "        :param score: transition scores of length max sequence size\n",
    "                      in mini batch [(batch_size, num_labels)]\n",
    "        :param path: transition paths of length max sequence size\n",
    "                     in mini batch [(batch_size, num_labels)]\n",
    "        :return: labels of batch_idx-th sequence\n",
    "        \"\"\"\n",
    "\n",
    "        seq_end_idx = seq_lens[batch_idx] - 1\n",
    "        # extract label of end sequence\n",
    "        _, best_last_label = (score[seq_end_idx][batch_idx] + self.end_trans).max(0)\n",
    "        best_labels = [int(best_last_label)]\n",
    "\n",
    "        # predict labels from back using viterbi algorithm\n",
    "        for p in reversed(path[:seq_end_idx]):\n",
    "            best_last_label = p[batch_idx][best_labels[0]]\n",
    "            best_labels.insert(0, int(best_last_label))\n",
    "\n",
    "        return best_labels\n",
    "\n",
    "    def _compute_denominator_log_likelihood(self, h: FloatTensor, mask: BoolTensor):\n",
    "        \"\"\"\n",
    "        compute the denominator term for the log-likelihood\n",
    "        :param h: hidden matrix (batch_size, seq_len, num_labels)\n",
    "        :param mask: mask tensor of each sequence\n",
    "                     in mini batch (batch_size, seq_len)\n",
    "        :return: The score of denominator term for the log-likelihood\n",
    "        \"\"\"\n",
    "        device = h.device\n",
    "        batch_size, seq_len, _ = h.size()\n",
    "\n",
    "        # (num_labels, num_labels) -> (1, num_labels, num_labels)\n",
    "        trans = self.trans_matrix.unsqueeze(0)\n",
    "\n",
    "        # add the score from beginning to each label\n",
    "        # and the first score of each label\n",
    "        score = self.start_trans + h[:, 0]\n",
    "\n",
    "        # iterate through processing for the number of words in the mini batch\n",
    "        for t in range(1, seq_len):\n",
    "            # (batch_size, self.num_labels, 1)\n",
    "            before_score = score.unsqueeze(2)\n",
    "\n",
    "            # prepare t-th mask of sequences in each sequence\n",
    "            # (batch_size, 1)\n",
    "            mask_t = mask[:, t].unsqueeze(1)\n",
    "            mask_t = mask_t.to(device)\n",
    "\n",
    "            # prepare the transition probability of the t-th sequence label\n",
    "            # in each sequence\n",
    "            # (batch_size, 1, num_labels)\n",
    "            h_t = h[:, t].unsqueeze(1)\n",
    "\n",
    "            # calculate t-th scores in each sequence\n",
    "            # (batch_size, num_labels)\n",
    "            score_t = before_score + h_t + trans\n",
    "            score_t = torch.logsumexp(score_t, 1)\n",
    "\n",
    "            # update scores\n",
    "            # (batch_size, num_labels)\n",
    "            score = torch.where(mask_t, score_t, score)\n",
    "\n",
    "        # add the end score of each label\n",
    "        score += self.end_trans\n",
    "\n",
    "        # return the log likely food of all data in mini batch\n",
    "        return torch.logsumexp(score, 1)\n",
    "\n",
    "    def _compute_numerator_log_likelihood(\n",
    "        self, h: FloatTensor, y: LongTensor, mask: BoolTensor\n",
    "    ) -> FloatTensor:\n",
    "        \"\"\"\n",
    "        compute the numerator term for the log-likelihood\n",
    "        :param h: hidden matrix (batch_size, seq_len, num_labels)\n",
    "        :param y: answer labels of each sequence\n",
    "                  in mini batch (batch_size, seq_len)\n",
    "        :param mask: mask tensor of each sequence\n",
    "                     in mini batch (batch_size, seq_len)\n",
    "        :return: The score of numerator term for the log-likelihood\n",
    "        \"\"\"\n",
    "\n",
    "        batch_size, seq_len, _ = h.size()\n",
    "\n",
    "        h_unsqueezed = h.unsqueeze(-1)\n",
    "        trans = self.trans_matrix.unsqueeze(-1)\n",
    "\n",
    "        arange_b = torch.arange(batch_size)\n",
    "\n",
    "        # extract first vector of sequences in mini batch\n",
    "        calc_range = seq_len - 1\n",
    "        score = self.start_trans[y[:, 0]] + sum(\n",
    "            [self._calc_trans_score_for_num_llh(\n",
    "                h_unsqueezed, y, trans, mask, t, arange_b\n",
    "            ) for t in range(calc_range)])\n",
    "\n",
    "        # extract end label number of each sequence in mini batch\n",
    "        # (batch_size)\n",
    "        last_mask_index = mask.sum(1) - 1\n",
    "        last_labels = y[arange_b, last_mask_index]\n",
    "        each_last_score = h[arange_b, -1, last_labels] * mask[:, -1]\n",
    "\n",
    "        # Add the score of the sequences of the maximum length in mini batch\n",
    "        # Add the scores from the last tag of each sequence to EOS\n",
    "        score += each_last_score + self.end_trans[last_labels]\n",
    "\n",
    "        return score\n",
    "\n",
    "    def _calc_trans_score_for_num_llh(\n",
    "        self,\n",
    "        h: FloatTensor,\n",
    "        y: LongTensor,\n",
    "        trans: FloatTensor,\n",
    "        mask: BoolTensor,\n",
    "        t: int,\n",
    "        arange_b: FloatTensor,\n",
    "    ) -> torch.Tensor:\n",
    "        \"\"\"\n",
    "        calculate transition score for computing numberator llh\n",
    "        :param h: hidden matrix (batch_size, seq_len, num_labels)\n",
    "        :param y: answer labels of each sequence\n",
    "                  in mini batch (batch_size, seq_len)\n",
    "        :param trans: transition score\n",
    "        :param mask: mask tensor of each sequence\n",
    "                     in mini batch (batch_size, seq_len)\n",
    "        :paramt t: index of hidden, transition, and mask matrixex\n",
    "        :param arange_b: this param is seted torch.arange(batch_size)\n",
    "        :param batch_size: batch size of this calculation\n",
    "        \"\"\"\n",
    "        device = h.device\n",
    "        mask_t = mask[:, t]\n",
    "        mask_t = mask_t.to(device)\n",
    "        mask_t1 = mask[:, t + 1]\n",
    "        mask_t1 = mask_t1.to(device)\n",
    "\n",
    "        # extract the score of t+1 label\n",
    "        # (batch_size)\n",
    "        h_t = h[arange_b, t, y[:, t]].squeeze(1)\n",
    "\n",
    "        # extract the transition score from t-th label to t+1 label\n",
    "        # (batch_size)\n",
    "        trans_t = trans[y[:, t], y[:, t + 1]].squeeze(1)\n",
    "\n",
    "        # add the score of t+1 and the transition score\n",
    "        # (batch_size)\n",
    "        return h_t * mask_t + trans_t * mask_t1\n",
    "\n",
    "    def _initialize_parameters(self, pad_idx: Optional[int]) -> None:\n",
    "        \"\"\"\n",
    "        initialize transition parameters\n",
    "        :param: pad_idx: if not None, additional initialize\n",
    "        :return: None\n",
    "        \"\"\"\n",
    "\n",
    "        nn.init.uniform_(self.trans_matrix, -0.1, 0.1)\n",
    "        nn.init.uniform_(self.start_trans, -0.1, 0.1)\n",
    "        nn.init.uniform_(self.end_trans, -0.1, 0.1)\n",
    "        if pad_idx is not None:\n",
    "            self.start_trans[pad_idx] = -10000.0\n",
    "            self.trans_matrix[pad_idx, :] = -10000.0\n",
    "            self.trans_matrix[:, pad_idx] = -10000.0\n",
    "            self.trans_matrix[pad_idx, pad_idx] = 0.0"
   ],
   "metadata": {
    "collapsed": false,
    "pycharm": {
     "name": "#%%\n"
    }
   }
  },
  {
   "cell_type": "markdown",
   "source": [
    "## Init StudentModel"
   ],
   "metadata": {
    "collapsed": false
   }
  },
  {
   "cell_type": "code",
   "execution_count": 322,
   "outputs": [],
   "source": [
    "class StudentModel_CoNLL(nn.Module):\n",
    "    def __init__(self, params: StudParams):\n",
    "        super(StudentModel_CoNLL, self).__init__()\n",
    "        self.device = \"cuda\" if self.cuda() else \"cpu\"\n",
    "\n",
    "        self.params = params\n",
    "\n",
    "        # EMBEDDING LAYERS\n",
    "        self.word_embedding = nn.Embedding.from_pretrained(torch.FloatTensor(self.params.word_vocab.vectors), freeze=self.params.words_freeze, padding_idx=self.params.word_vocab.key_to_index[\"<PAD>\"])\n",
    "        self.pos_embedding = nn.Embedding(num_embeddings=self.params.pos_vocab_size,\n",
    "                                          embedding_dim=self.params.pos_embedding_dim, padding_idx=self.params.pos_vocab_index[\"<PAD>\"])\n",
    "        self.char_embedding = nn.Embedding(num_embeddings=self.params.char_vocab_size,\n",
    "                                           embedding_dim=self.params.char_embedding_dim, padding_idx=self.params.char_vocab_index[\"<PAD>\"])\n",
    "\n",
    "        # LAYER 1.1: Char BiLSTM\n",
    "        self.char_lstm = nn.LSTM(input_size=self.params.char_embedding_dim, hidden_size=self.params.char_hidden_dim,\n",
    "                                 num_layers=self.params.char_lstm_layers, bidirectional=self.params.char_bidir,\n",
    "                                 dropout=self.params.char_dropout if self.params.char_lstm_layers > 1 else 0, batch_first=True)\n",
    "        self.dense_char_embedding = nn.Linear(self.params.char_hidden_dim * (2 if self.params.char_bidir else 1),self.params.char_hidden_dim * (2 if self.params.char_bidir else 1) )\n",
    "        self.char_dropout = nn.Dropout(self.params.char_dropout)\n",
    "\n",
    "        #LAYER 1.2: Global BiLSTM\n",
    "        self.global_contextual_embedding = nn.LSTM(input_size=self.params.global_embedding_dim, hidden_size=self.params.global_hidden_dim,\n",
    "                                                   num_layers=self.params.global_lstm_layers, bidirectional=self.params.global_bidir,dropout=self.params.global_dropout if self.params.global_lstm_layers > 1 else 0, batch_first=True )\n",
    "\n",
    "        self.dense_global_embedding = nn.Linear(self.params.global_hidden_dim * (2 if self.params.global_bidir else 1),self.params.global_hidden_dim * (2 if self.params.global_bidir else 1))\n",
    "        self.global_dropout = nn.Dropout(self.params.global_dropout)\n",
    "\n",
    "        # LAYER 2: Feature BiLSTM\n",
    "        self.combined_lstm = nn.LSTM(input_size=self.params.full_embedding_dim, hidden_size=self.params.combined_hidden_dim,\n",
    "                                 num_layers=self.params.combined_lstm_layers, bidirectional=self.params.combined_bidir,\n",
    "                                 dropout=self.params.combined_dropout if self.params.combined_lstm_layers > 1 else 0, batch_first=True)\n",
    "\n",
    "        self.dense_combined_embedding = nn.Linear(self.params.combined_hidden_dim * (2 if self.params.combined_bidir else 1), self.params.feature_dim_out)\n",
    "        self.combined_dropout = nn.Dropout(self.params.combined_dropout)\n",
    "\n",
    "        # LAYER 3.1: Classificator\n",
    "        self.batchnorm = nn.BatchNorm1d(self.params.feature_dim_out)\n",
    "        self.SELU = nn.SELU()\n",
    "\n",
    "\n",
    "        self.fc = nn.Linear(self.params.feature_dim_out, 128)\n",
    "        self.fc2 = nn.Linear(128, self.params.num_classes)\n",
    "        self.fc_dropout = nn.Dropout(self.params.classificator_dropout)\n",
    "\n",
    "        # LAYER 3.2: Classificator\n",
    "        self.conll_fc = nn.Linear(self.params.feature_dim_out, self.params.conll_num_classes)\n",
    "        self.conll_fc_dropout = nn.Dropout(self.params.conll_classificator_dropout)\n",
    "\n",
    "        self.softmax = nn.LogSoftmax(dim=1)\n",
    "\n",
    "        # LAYER 4\n",
    "        if self.params.crf:\n",
    "            self.crf = CRF(self.params.num_classes).to(self.device)\n",
    "            #LAYER 4.2\n",
    "            self.conll_crf = CRF(self.params.conll_num_classes).to(self.device)\n",
    "\n",
    "\n",
    "    def ner_loss(self, y_pred, y, mask, criterion=None, conll = False):\n",
    "        if criterion is None:\n",
    "            criterion = nn.CrossEntropyLoss(ignore_index=StudDataset.encode_class(\"<PAD>\"), reduction=\"mean\")\n",
    "\n",
    "        if self.params.crf:\n",
    "            if conll:\n",
    "                loss = -(self.conll_crf(y_pred, y, mask)).mean()\n",
    "            else:\n",
    "                loss = -(self.crf(y_pred, y, mask)).mean()\n",
    "        else:\n",
    "            # labels  [[1,2,3], [18, 12, 3]] after the view(-1) [1,2,3, 18, 12, 3]\n",
    "            y_pred = y_pred.view(-1, y_pred.shape[-1])\n",
    "            y = y.view(-1)\n",
    "            #FLATTENED MASK\n",
    "            f_mask = mask.view(-1)\n",
    "\n",
    "            #FILTER NOT PADDING\n",
    "            y_pred = y_pred[f_mask]\n",
    "            y = y[f_mask]\n",
    "            loss = criterion(y_pred, y)\n",
    "        return loss\n",
    "\n",
    "    def forward(self, x, conll=False):\n",
    "        debug = False\n",
    "\n",
    "        #TODO: Unpack chars and sentence_char_len\n",
    "        words = x[0]\n",
    "        poses = x[1]\n",
    "        chars = x[2]\n",
    "        char_indexes = x[3]\n",
    "        mask = x[4]\n",
    "\n",
    "        #Embedding layers\n",
    "        poses_out = self.pos_embedding(poses)\n",
    "        words_out = self.word_embedding(words)\n",
    "\n",
    "        #FIRST LSTM layer\n",
    "        if self.params.char:\n",
    "            chars_out = self.char_embedding(chars)\n",
    "            char_lstm_out, _ = self.char_lstm(chars_out)\n",
    "\n",
    "            #char_lstm_out = self.dense_char_embedding(char_lstm_out)\n",
    "            char_lstm_out = self.char_dropout(char_lstm_out)\n",
    "\n",
    "            if debug: print(\"FIRST lstm out shape: {}\".format(char_lstm_out.shape))\n",
    "            #COMBINE CHARS FOR EACH WORDS\n",
    "\n",
    "            batch_sentences = pysc.scatter_sum(char_lstm_out, char_indexes, dim=1)[:,:words_out.shape[1],:]\n",
    "\n",
    "            if debug: print(\"Scatter out shape: {}\".format(batch_sentences.shape))\n",
    "            if debug: print(\"words out shape: {}\".format(words_out.shape))\n",
    "            if debug: print(\"poses out shape: {}\".format(poses_out.shape))\n",
    "\n",
    "            combined_embeddings = torch.cat((words_out,batch_sentences, poses_out), 2)\n",
    "        else:\n",
    "            combined_embeddings = torch.cat((words_out, poses_out), 2)\n",
    "\n",
    "\n",
    "        if self.params.global_vector:\n",
    "            #Global Contextual Embedding\n",
    "\n",
    "            global_lstm_out, _ = self.global_contextual_embedding(combined_embeddings)\n",
    "            global_lstm_out = self.dense_global_embedding(global_lstm_out)\n",
    "            global_lstm_out = self.global_dropout(global_lstm_out)\n",
    "\n",
    "            global_context_emb = torch.sum(global_lstm_out, dim=1)\n",
    "            global_context_emb = torch.unsqueeze(global_context_emb, dim=1)\n",
    "\n",
    "\n",
    "            global_context_emb = global_context_emb.expand(-1, global_lstm_out.shape[1], -1)\n",
    "\n",
    "\n",
    "            if debug: print(\"global_context_emb embeddings shape: {}\".format(global_context_emb.shape))\n",
    "\n",
    "        if self.params.global_vector:\n",
    "             combined_embeddings = torch.cat((global_context_emb, combined_embeddings), 2)\n",
    "\n",
    "        if debug: print(\"COMBINED embeddings shape: {}\".format(combined_embeddings.shape))\n",
    "\n",
    "        #SECOND LSTM LAYER\n",
    "        full_lstm_out, _ = self.combined_lstm(combined_embeddings)\n",
    "\n",
    "        if debug: print(\"SECOND lstm shape: {}\".format(full_lstm_out.shape))\n",
    "        feature_lstm_out = self.dense_combined_embedding(full_lstm_out)\n",
    "        feature_lstm_out = self.combined_dropout(feature_lstm_out)\n",
    "\n",
    "        if debug: print(\"FEATURE extractor shape: {}\".format(feature_lstm_out.shape))\n",
    "        feature_lstm_out = self.batchnorm(feature_lstm_out.permute(0,2,1))\n",
    "\n",
    "        if debug: print(\"BATCHNORM shape: {}\".format(feature_lstm_out.shape))\n",
    "\n",
    "        activation_function = self.SELU\n",
    "\n",
    "        out = activation_function(feature_lstm_out.permute(0,2,1))\n",
    "\n",
    "        #IF IS USED THE CONLL DATASET USE A CLASSIFICATOR WITH LESS CLASSES\n",
    "        if conll:\n",
    "            out = self.conll_fc(out)\n",
    "\n",
    "        else:\n",
    "            out = self.fc(out)\n",
    "            out = self.fc_dropout(out)\n",
    "            out = self.fc2(out)\n",
    "\n",
    "\n",
    "        logits = self.softmax(out)\n",
    "        if debug: print(\"LOGITS shape: {}\".format(out.shape))\n",
    "\n",
    "        if self.params.crf:\n",
    "            if conll:\n",
    "                out = self.conll_crf.viterbi_decode(logits, mask)\n",
    "            else:\n",
    "                out = self.crf.viterbi_decode(logits, mask)\n",
    "        return logits, out\n",
    "\n",
    "    def predict(self, tokens: List[List[str]]) -> List[List[str]]:\n",
    "        all_predict = []\n",
    "        dev_dataset = StudDataset(tokens, self.params.word_vocab.key_to_index, self.params.pos_vocab_index,\n",
    "                                self.params.char_vocab_index, lemming=self.params.lemming, device=self.params.device)\n",
    "\n",
    "        dataloader = DataLoader(dev_dataset, batch_size=self.params.batch_size, collate_fn=dev_dataset.collate_fn)\n",
    "        self.eval()\n",
    "\n",
    "        with torch.no_grad():\n",
    "            for (xd, ys) in dataloader:\n",
    "\n",
    "                mask = xd[\"mask\"].to(self.device)\n",
    "                x = (xd[\"words\"].to(self.device), xd[\"poses\"].to(self.device), xd[\"chars\"].to(self.device), xd[\"scattered\"].to(self.device), mask )\n",
    "\n",
    "                hidden, out = model(x)\n",
    "\n",
    "                ### START EVAL PART ###\n",
    "                for s_ine, sentence in enumerate(out):\n",
    "                    all_predict.append([StudDataset.decode_class(x) for x in sentence])\n",
    "                ### END EVAL PART ###\n",
    "\n",
    "        return all_predict"
   ],
   "metadata": {
    "collapsed": false,
    "pycharm": {
     "name": "#%%\n"
    }
   }
  },
  {
   "cell_type": "markdown",
   "source": [
    "# Def Train-Eval functions"
   ],
   "metadata": {
    "collapsed": false,
    "id": "BlzXfuhvhF0L"
   }
  },
  {
   "cell_type": "code",
   "execution_count": 323,
   "outputs": [],
   "source": [
    "from seqeval.metrics import accuracy_score\n",
    "from seqeval.metrics import f1_score\n",
    "import seqeval\n",
    "def train(model, train_dataloader, optimizer, criterion, device, conll=False):\n",
    "    epoch_loss = 0\n",
    "    model.train()\n",
    "\n",
    "    for (xd, ys) in train_dataloader:\n",
    "\n",
    "        y = ys[\"labels\"].to(device)\n",
    "\n",
    "        mask = xd[\"mask\"].to(device)\n",
    "        x = (xd[\"words\"].to(device), xd[\"poses\"].to(device), xd[\"chars\"].to(device), xd[\"scattered\"].to(device), mask)\n",
    "\n",
    "        optimizer.zero_grad()\n",
    "\n",
    "        hidden, out = model(x, conll=conll)\n",
    "\n",
    "        loss = model.ner_loss(hidden, y, mask, criterion, conll=conll)\n",
    "        loss.backward()\n",
    "\n",
    "        optimizer.step()\n",
    "        epoch_loss += loss.item()\n",
    "\n",
    "    return epoch_loss / len(train_dataloader)\n",
    "\n",
    "def evaluate(model, iterator, criterion, device, labels_s=None):\n",
    "    all_predict = []\n",
    "    epoch_loss = 0\n",
    "    model.eval()\n",
    "\n",
    "    with torch.no_grad():\n",
    "        for (xd, ys) in iterator:\n",
    "\n",
    "            mask = xd[\"mask\"].to(device)\n",
    "            x = (xd[\"words\"].to(device), xd[\"poses\"].to(device), xd[\"chars\"].to(device), xd[\"scattered\"].to(device), mask)\n",
    "            y = ys[\"labels\"].to(device)\n",
    "\n",
    "            hidden, out = model(x)\n",
    "\n",
    "            ### START EVAL PART ###\n",
    "            for s_ine, sentence in enumerate(out):\n",
    "                all_predict.append([StudDataset.decode_class(x) for x in sentence])\n",
    "            ### END EVAL PART ###\n",
    "\n",
    "            loss = model.ner_loss(hidden, y, mask, criterion )\n",
    "\n",
    "            epoch_loss += loss.item()\n",
    "\n",
    "        if labels_s is not None:\n",
    "            acc = accuracy_score(labels_s, all_predict)\n",
    "            f1 = f1_score(labels_s, all_predict, average=\"macro\")\n",
    "\n",
    "    return epoch_loss / len(iterator),acc, f1"
   ],
   "metadata": {
    "pycharm": {
     "name": "#%%\n"
    },
    "id": "zfWdnJ65hF0L"
   }
  },
  {
   "cell_type": "markdown",
   "source": [
    "# Init Params Dataloaders and Model"
   ],
   "metadata": {
    "id": "REtpu0AnhSq5"
   }
  },
  {
   "cell_type": "code",
   "source": [
    "## Init Model\n",
    "params = StudParams()"
   ],
   "metadata": {
    "id": "sxi8-5ckseEe",
    "pycharm": {
     "name": "#%%\n"
    }
   },
   "execution_count": 345,
   "outputs": []
  },
  {
   "cell_type": "code",
   "execution_count": 325,
   "outputs": [
    {
     "name": "stdout",
     "output_type": "stream",
     "text": [
      "5065 unknown words found\n",
      "181 unknown words found\n",
      "6413 words found\n"
     ]
    }
   ],
   "source": [
    "if True:\n",
    "    train_t, train_l = read_dataset(train_path)\n",
    "    dev_t, dev_l = read_dataset(dev_path)\n",
    "    if params.additional_dataset:\n",
    "        add2_t, add2_l = read_dataset(os.path.join(data_path,\"CoNLL.tsv\"))\n",
    "\n",
    "        add_t, add_l = read_dataset(os.path.join(data_path,\"WNUT17.tsv\"))\n",
    "        add_t = [ [s.lower() for s in x] for x in add_t if len(x) > 10]\n",
    "        add_l = [ x for x in add_l if len(x) > 10]\n",
    "        train_t = train_t + add_t\n",
    "        train_l = train_l + add_l\n",
    "\n",
    "    train_dataset = StudDataset(train_t, params.word_vocab.key_to_index, params.pos_vocab_index,\n",
    "                              params.char_vocab_index, lemming=params.lemming, device=params.device, labels=train_l)\n",
    "    train_dataloader = DataLoader(train_dataset, batch_size=params.batch_size, collate_fn=train_dataset.collate_fn,\n",
    "                                  shuffle=True)\n",
    "\n",
    "    dev_dataset = StudDataset(dev_t, params.word_vocab.key_to_index, params.pos_vocab_index, params.char_vocab_index,\n",
    "                            lemming=params.lemming, device=params.device, labels=dev_l)\n",
    "    dev_dataloader = DataLoader(dev_dataset, batch_size=params.batch_size, collate_fn=dev_dataset.collate_fn)\n",
    "\n",
    "    if params.additional_dataset:\n",
    "        add2_t_dataset = StudDataset_CoNLL(add2_t, params.word_vocab.key_to_index, params.pos_vocab_index,\n",
    "                                  params.char_vocab_index, lemming=params.lemming, device=params.device, labels=add2_l)\n",
    "\n",
    "        add2_t_dataloader = DataLoader(add2_t_dataset, batch_size=params.batch_size, collate_fn=add2_t_dataset.collate_fn,\n",
    "                                      shuffle=True)"
   ],
   "metadata": {
    "collapsed": false,
    "pycharm": {
     "name": "#%%\n"
    }
   }
  },
  {
   "cell_type": "code",
   "execution_count": 326,
   "outputs": [
    {
     "name": "stdout",
     "output_type": "stream",
     "text": [
      "Initiated\n"
     ]
    }
   ],
   "source": [
    "model = StudentModel_CoNLL(params).to(params.device)\n",
    "\n",
    "optimizer = torch.optim.Adam(model.parameters(), lr=params.learning_rate, weight_decay=params.weight_decay)\n",
    "\n",
    "criterion = nn.CrossEntropyLoss(ignore_index=StudDataset.encode_class(\"<PAD>\"))\n",
    "\n",
    "print(\"Initiated\")"
   ],
   "metadata": {
    "collapsed": false,
    "pycharm": {
     "name": "#%%\n"
    }
   }
  },
  {
   "cell_type": "markdown",
   "source": [
    "# Train"
   ],
   "metadata": {
    "collapsed": false
   }
  },
  {
   "cell_type": "code",
   "execution_count": 327,
   "outputs": [],
   "source": [
    "import time\n",
    "\n",
    "best_valid_f1 = -float('inf')\n",
    "losses = {\"train\": [], \"val\": []}\n",
    "f1ns = {\"train\": [], \"val\": []}\n",
    "accs = {\"train\": [], \"val\": []}\n",
    "last_additional_train_loss = float('inf')"
   ],
   "metadata": {
    "collapsed": false,
    "pycharm": {
     "name": "#%%\n"
    }
   }
  },
  {
   "cell_type": "code",
   "source": [
    "epochs = params.epochs\n",
    "epochs = epochs\n",
    "for epoch in range(epochs):\n",
    "    start_time = time.time()\n",
    "\n",
    "    print(\"EPOCH {}/{}\".format(str(epoch + 1),epochs))\n",
    "    if params.additional_dataset and last_additional_train_loss > 1.0  :\n",
    "        last_additional_train_loss = train(model, add2_t_dataloader, optimizer, criterion, params.device, conll=True)\n",
    "        print(f'\\t Train Loss CoNLL: {last_additional_train_loss:.3f}')\n",
    "\n",
    "    train_loss = train(model, train_dataloader, optimizer, criterion, params.device)\n",
    "    print(f'\\t Train Loss main Dataset: {train_loss:.3f}')\n",
    "\n",
    "\n",
    "    valid_loss, valid_acc, valid_f1 = evaluate(model, dev_dataloader, criterion, params.device, dev_l)\n",
    "    print(f'\\t Val. Loss: {valid_loss:.3f} | Val Acc: {valid_acc:.2f}% | Val F1: {valid_f1 * 100:.2f}%')\n",
    "\n",
    "    if valid_f1 > best_valid_f1:\n",
    "        best_valid_f1 = valid_f1\n",
    "        torch.save(model.state_dict(), os.path.join(temp_path, 'model.ckpt'))\n",
    "        print(\"     NEW BEST MODEL\")\n",
    "\n",
    "    losses[\"train\"].append(train_loss)\n",
    "    losses[\"val\"].append(valid_loss)\n",
    "    f1ns[\"val\"].append(valid_f1)\n",
    "    accs[\"val\"].append(valid_acc)\n",
    "    print(\"     --- %s seconds ---\" % (time.time() - start_time))"
   ],
   "metadata": {
    "id": "eLCHLZTRpiti",
    "pycharm": {
     "name": "#%%\n"
    }
   },
   "execution_count": 328,
   "outputs": [
    {
     "name": "stdout",
     "output_type": "stream",
     "text": [
      "EPOCH 1/15\n",
      "\t Train Loss CoNLL: 5.205\n",
      "\t Train Loss main Dataset: 9.021\n",
      "\t Val. Loss: 5.212 | Val Acc: 0.91% | Val F1: 49.11%\n",
      "     NEW BEST MODEL\n",
      "     --- 181.38315653800964 seconds ---\n",
      "EPOCH 2/15\n",
      "\t Train Loss CoNLL: 1.819\n",
      "\t Train Loss main Dataset: 5.392\n",
      "\t Val. Loss: 4.337 | Val Acc: 0.92% | Val F1: 55.37%\n",
      "     NEW BEST MODEL\n",
      "     --- 186.7528576850891 seconds ---\n",
      "EPOCH 3/15\n",
      "\t Train Loss CoNLL: 1.303\n",
      "\t Train Loss main Dataset: 4.335\n",
      "\t Val. Loss: 3.737 | Val Acc: 0.93% | Val F1: 62.89%\n",
      "     NEW BEST MODEL\n",
      "     --- 207.74354195594788 seconds ---\n",
      "EPOCH 4/15\n",
      "\t Train Loss CoNLL: 1.027\n",
      "\t Train Loss main Dataset: 3.616\n",
      "\t Val. Loss: 3.489 | Val Acc: 0.93% | Val F1: 64.29%\n",
      "     NEW BEST MODEL\n",
      "     --- 229.6538369655609 seconds ---\n",
      "EPOCH 5/15\n",
      "\t Train Loss CoNLL: 0.858\n",
      "\t Train Loss main Dataset: 3.079\n",
      "\t Val. Loss: 3.255 | Val Acc: 0.93% | Val F1: 65.71%\n",
      "     NEW BEST MODEL\n",
      "     --- 194.61221361160278 seconds ---\n",
      "EPOCH 6/15\n",
      "\t Train Loss main Dataset: 2.426\n",
      "\t Val. Loss: 3.146 | Val Acc: 0.94% | Val F1: 66.67%\n",
      "     NEW BEST MODEL\n",
      "     --- 77.28877115249634 seconds ---\n",
      "EPOCH 7/15\n",
      "\t Train Loss main Dataset: 2.069\n",
      "\t Val. Loss: 2.996 | Val Acc: 0.93% | Val F1: 66.86%\n",
      "     NEW BEST MODEL\n",
      "     --- 80.70118713378906 seconds ---\n",
      "EPOCH 8/15\n",
      "\t Train Loss main Dataset: 1.694\n",
      "\t Val. Loss: 3.235 | Val Acc: 0.94% | Val F1: 68.77%\n",
      "     NEW BEST MODEL\n",
      "     --- 78.64652109146118 seconds ---\n",
      "EPOCH 9/15\n",
      "\t Train Loss main Dataset: 1.436\n",
      "\t Val. Loss: 3.278 | Val Acc: 0.94% | Val F1: 69.98%\n",
      "     NEW BEST MODEL\n",
      "     --- 81.21766328811646 seconds ---\n",
      "EPOCH 10/15\n",
      "\t Train Loss main Dataset: 1.205\n",
      "\t Val. Loss: 3.545 | Val Acc: 0.94% | Val F1: 69.44%\n",
      "     --- 78.80322742462158 seconds ---\n",
      "EPOCH 11/15\n",
      "\t Train Loss main Dataset: 1.070\n",
      "\t Val. Loss: 3.588 | Val Acc: 0.94% | Val F1: 70.62%\n",
      "     NEW BEST MODEL\n",
      "     --- 94.01351809501648 seconds ---\n",
      "EPOCH 12/15\n",
      "\t Train Loss main Dataset: 0.899\n",
      "\t Val. Loss: 3.450 | Val Acc: 0.94% | Val F1: 71.54%\n",
      "     NEW BEST MODEL\n",
      "     --- 96.59327220916748 seconds ---\n",
      "EPOCH 13/15\n",
      "\t Train Loss main Dataset: 0.761\n",
      "\t Val. Loss: 3.750 | Val Acc: 0.94% | Val F1: 69.91%\n",
      "     --- 93.3294575214386 seconds ---\n",
      "EPOCH 14/15\n",
      "\t Train Loss main Dataset: 0.680\n",
      "\t Val. Loss: 3.890 | Val Acc: 0.94% | Val F1: 71.47%\n",
      "     --- 112.62402081489563 seconds ---\n",
      "EPOCH 15/15\n",
      "\t Train Loss main Dataset: 0.596\n",
      "\t Val. Loss: 4.426 | Val Acc: 0.94% | Val F1: 70.79%\n",
      "     --- 95.62757158279419 seconds ---\n"
     ]
    }
   ]
  },
  {
   "cell_type": "markdown",
   "source": [
    "## Plot train graph"
   ],
   "metadata": {
    "id": "ukKiTN7Uhj-_"
   }
  },
  {
   "cell_type": "code",
   "execution_count": 329,
   "outputs": [
    {
     "data": {
      "text/plain": "'../../model\\\\tests\\\\71.54\\\\model.ckpt'"
     },
     "execution_count": 329,
     "metadata": {},
     "output_type": "execute_result"
    }
   ],
   "source": [
    "import shutil\n",
    "dir_name = f'{best_valid_f1 * 100:.2f}'\n",
    "dir_path = os.path.join(model_p, \"tests\", dir_name)\n",
    "if not os.path.exists(dir_path):\n",
    "    os.makedirs(dir_path)\n",
    "\n",
    "shutil.copy2( os.path.join(temp_path, 'model.ckpt'),  os.path.join(dir_path, 'model.ckpt'))"
   ],
   "metadata": {
    "collapsed": false,
    "pycharm": {
     "name": "#%%\n"
    }
   }
  },
  {
   "cell_type": "code",
   "execution_count": 330,
   "outputs": [],
   "source": [
    "with open(os.path.join(dir_path, \"params.csv\"), \"w\") as f:\n",
    "    f.write(params.csv)"
   ],
   "metadata": {
    "collapsed": false,
    "pycharm": {
     "name": "#%%\n"
    }
   }
  },
  {
   "cell_type": "code",
   "execution_count": 331,
   "outputs": [
    {
     "data": {
      "text/plain": "<Figure size 432x288 with 1 Axes>",
      "image/png": "[encoded data removed]"
     },
     "metadata": {
      "needs_background": "light"
     },
     "output_type": "display_data"
    },
    {
     "name": "stdout",
     "output_type": "stream",
     "text": [
      "additionals_datasets,additional_dataset,lemming,word_vocab,word_vocab_size,word_embedding_dim,pos_vocab_dim,pos_embedding_dim,char_vocab_size,char_embedding_dim,num_classes,char_hidden_dims,char_lstm_layers,char_bidir,char_dropout,words_freeze,combined_hidden_dims,combined_lstm_layers,combined_bidir,combined_dropout,classificator_dropout,feature_dim_out,epochs,batch_size,learning_rate,weight_decay,char,cfr\n",
      "['WNUT17.tsv', 'CoNLL.tsv'],True,False,glove-wiki-gigaword-300,400002,300,20,20,103,50,14,50,3,True,0.3,True,350,3,True,0.35,0.4,350,15,64,0.0005,0.0001,True,True\n"
     ]
    }
   ],
   "source": [
    "plt.plot(losses[\"train\"], label=\"train\")\n",
    "plt.plot(losses[\"val\"], label=\"val\")\n",
    "plt.legend()\n",
    "plt.savefig(os.path.join(dir_path, \"losses.png\"))\n",
    "plt.show()\n",
    "print(params.csv)\n",
    "\n",
    "with open(os.path.join(dir_path, \"losses.csv\"), \"w\") as f:\n",
    "    values = \"\\n\".join([str(x)+\",\"+str(y) for x,y in zip(losses[\"train\"], losses[\"val\"])])\n",
    "    f.write(\"train,val\\n\"+values)"
   ],
   "metadata": {
    "pycharm": {
     "name": "#%%\n"
    },
    "id": "uAQWefknhF0O"
   }
  },
  {
   "cell_type": "code",
   "execution_count": 332,
   "outputs": [
    {
     "data": {
      "text/plain": "<Figure size 432x288 with 1 Axes>",
      "image/png": "[encoded data removed]"
     },
     "metadata": {
      "needs_background": "light"
     },
     "output_type": "display_data"
    }
   ],
   "source": [
    "plt.plot(accs[\"val\"], label=\"acc\")\n",
    "plt.plot(f1ns[\"val\"], label=\"f1\")\n",
    "plt.legend()\n",
    "plt.savefig(os.path.join(dir_path, \"val.png\"))\n",
    "plt.show()"
   ],
   "metadata": {
    "pycharm": {
     "name": "#%%\n"
    },
    "id": "QXunAlp3hF0O"
   }
  },
  {
   "cell_type": "code",
   "execution_count": 333,
   "outputs": [
    {
     "name": "stdout",
     "output_type": "stream",
     "text": [
      "181 unknown words found\n"
     ]
    }
   ],
   "source": [
    "predictions_s = model.predict(dev_t)"
   ],
   "metadata": {
    "collapsed": false,
    "pycharm": {
     "name": "#%%\n"
    }
   }
  },
  {
   "cell_type": "code",
   "execution_count": 334,
   "outputs": [
    {
     "name": "stdout",
     "output_type": "stream",
     "text": [
      "              precision    recall  f1-score   support\n",
      "\n",
      "        CORP       0.66      0.65      0.66       133\n",
      "          CW       0.61      0.51      0.56       170\n",
      "         GRP       0.77      0.75      0.76       190\n",
      "         LOC       0.88      0.81      0.85       243\n",
      "         PER       0.88      0.88      0.88       300\n",
      "        PROD       0.60      0.50      0.54       149\n",
      "\n",
      "   micro avg       0.77      0.72      0.74      1185\n",
      "   macro avg       0.73      0.68      0.71      1185\n",
      "weighted avg       0.77      0.72      0.74      1185\n",
      "\n"
     ]
    }
   ],
   "source": [
    "print(seqeval.metrics.classification_report(dev_l, predictions_s))"
   ],
   "metadata": {
    "collapsed": false,
    "pycharm": {
     "name": "#%%\n"
    }
   }
  },
  {
   "cell_type": "code",
   "execution_count": 335,
   "outputs": [
    {
     "data": {
      "text/plain": "<Figure size 1080x1080 with 2 Axes>",
      "image/png": "[encoded data removed]"
     },
     "metadata": {
      "needs_background": "light"
     },
     "output_type": "display_data"
    }
   ],
   "source": [
    "from sklearn.metrics import confusion_matrix\n",
    "flat_label = [ x  for sentence in dev_l for x in sentence]\n",
    "flat_predict = [ x  for sentence in predictions_s for x in sentence]\n",
    "labels = [v for k,v in StudDataset.get_class_labels()][:-1]\n",
    "cf_matrix = confusion_matrix(flat_label, flat_predict, labels=labels)\n",
    "import seaborn as sns\n",
    "import matplotlib.pyplot as plt\n",
    "\n",
    "palette = [\"#ffffff\", \"#e6f6ff\", \"#b8d5e6\", \"#8fb7cc\", \"#73a4bf\", \"#4d7e99\", \"#356a85\",\"#2d6480\" , \"#185a7a\", \"#004c71\"]\n",
    "\n",
    "\n",
    "f, ax = plt.subplots(figsize=(15, 15))\n",
    "cf_matrix = cf_matrix.astype('float') / cf_matrix.sum(axis=1)[:, np.newaxis]\n",
    "\n",
    "ax = sns.heatmap(cf_matrix, annot=True,\n",
    "            fmt='.2%',\n",
    "            cmap=sns.color_palette(palette, 9)\n",
    "            )\n",
    "\n",
    "ax.set_title('Confusion Matrix\\n\\n')\n",
    "ax.set_xlabel('\\nPredicted NER')\n",
    "ax.set_ylabel('Actual NER')\n",
    "\n",
    "## Ticket labels - List must be in alphabetical order\n",
    "ax.xaxis.set_ticklabels(labels)\n",
    "ax.yaxis.set_ticklabels(labels)\n",
    "\n",
    "## Display the visualization of the Confusion Matrix.\n",
    "plt.savefig(os.path.join(dir_path, \"conf_matrix.png\"))\n",
    "plt.show()"
   ],
   "metadata": {
    "collapsed": false,
    "pycharm": {
     "name": "#%%\n"
    }
   }
  },
  {
   "cell_type": "markdown",
   "source": [
    "Save parameters"
   ],
   "metadata": {
    "id": "d_RCu7n3ho0c"
   }
  },
  {
   "cell_type": "markdown",
   "source": [
    "# Prediction Section"
   ],
   "metadata": {
    "collapsed": false,
    "id": "moyi1gj5hF0P"
   }
  },
  {
   "cell_type": "code",
   "execution_count": 351,
   "outputs": [
    {
     "name": "stdout",
     "output_type": "stream",
     "text": [
      "216 unknown words found\n",
      "# accuracy: 0.9435\n",
      "# f1: 0.7380\n",
      "              precision    recall  f1-score   support\n",
      "\n",
      "        CORP       0.75      0.78      0.76       193\n",
      "          CW       0.57      0.53      0.55       174\n",
      "         GRP       0.82      0.74      0.78       190\n",
      "         LOC       0.83      0.87      0.85       234\n",
      "         PER       0.88      0.92      0.90       290\n",
      "        PROD       0.68      0.53      0.59       146\n",
      "\n",
      "   micro avg       0.78      0.76      0.77      1227\n",
      "   macro avg       0.75      0.73      0.74      1227\n",
      "weighted avg       0.77      0.76      0.76      1227\n",
      "\n"
     ]
    },
    {
     "data": {
      "text/plain": "<Figure size 1080x1080 with 2 Axes>",
      "image/png": "[encoded data removed]"
     },
     "metadata": {
      "needs_background": "light"
     },
     "output_type": "display_data"
    }
   ],
   "source": [
    "load = True\n",
    "if load:\n",
    "    ## Init Model\n",
    "\n",
    "    params = StudParams()\n",
    "    model = StudentModel_CoNLL(params).to(params.device)\n",
    "    my_path = os.path.join(data_path, \"boh.tsv\")\n",
    "    my_t, my_l = read_dataset(my_path)\n",
    "\n",
    "    #my_t, my_l = dev_t, dev_l\n",
    "    prediction_path = os.path.join(model_p, \"predictions\")\n",
    "    model.load_state_dict(torch.load(os.path.join(model_p,\"tests\",\"71.54\" ,\"mid_loss_70.62_lower.ckpt\")))\n",
    "    predictions_s = model.predict(my_t)\n",
    "\n",
    "    acc = accuracy_score(my_l, predictions_s)\n",
    "    f = f1_score(my_l, predictions_s, average=\"macro\")\n",
    "\n",
    "    print(f\"# accuracy: {acc:.4f}\")\n",
    "    print(f\"# f1: {f:.4f}\")\n",
    "    prediction_path = os.path.join(model_p, \"predictions\")\n",
    "\n",
    "    print(seqeval.metrics.classification_report(my_l, predictions_s))\n",
    "\n",
    "    from sklearn.metrics import confusion_matrix\n",
    "    flat_label = [ x  for sentence in my_l for x in sentence]\n",
    "    flat_predict = [ x  for sentence in predictions_s for x in sentence]\n",
    "    labels = [v for k,v in StudDataset.get_class_labels()][:-1]\n",
    "    cf_matrix = confusion_matrix(flat_label, flat_predict, labels=labels)\n",
    "    import seaborn as sns\n",
    "    import matplotlib.pyplot as plt\n",
    "\n",
    "    palette = [\"#ffffff\", \"#e6f6ff\", \"#b8d5e6\", \"#8fb7cc\", \"#73a4bf\", \"#4d7e99\", \"#356a85\",\"#2d6480\" , \"#185a7a\", \"#004c71\"]\n",
    "\n",
    "\n",
    "    f, ax = plt.subplots(figsize=(15, 15))\n",
    "    cf_matrix = cf_matrix.astype('float') / cf_matrix.sum(axis=1)[:, np.newaxis]\n",
    "\n",
    "    ax = sns.heatmap(cf_matrix, annot=True,\n",
    "                fmt='.2%',\n",
    "                cmap=sns.color_palette(palette, 9)\n",
    "                )\n",
    "\n",
    "    ax.set_title('Confusion Matrix\\n\\n')\n",
    "    ax.set_xlabel('\\nPredicted NER')\n",
    "    ax.set_ylabel('Actual NER')\n",
    "\n",
    "    ## Ticket labels - List must be in alphabetical order\n",
    "    ax.xaxis.set_ticklabels(labels)\n",
    "    ax.yaxis.set_ticklabels(labels)\n",
    "\n",
    "    ## Display the visualization of the Confusion Matrix.\n",
    "    plt.show()"
   ],
   "metadata": {
    "pycharm": {
     "name": "#%%\n"
    },
    "id": "dOgwXdj8hF0P",
    "outputId": "f244a212-1c11-4777-88b3-403c6ab8a762"
   }
  },
  {
   "cell_type": "code",
   "execution_count": null,
   "outputs": [],
   "source": [
    "from gensim.test.utils import datapath, get_tmpfile\n",
    "from gensim.models import KeyedVectors\n",
    "from gensim.scripts.glove2word2vec import glove2word2vec\n",
    "\n",
    "glove_file = datapath(data)\n",
    "tmp_file = get_tmpfile(\"test_word2vec.txt\")\n",
    "\n",
    "_ = glove2word2vec(glove_file, tmp_file)"
   ],
   "metadata": {
    "collapsed": false,
    "pycharm": {
     "name": "#%%\n"
    }
   }
  }
 ]
}